{
 "cells": [
  {
   "cell_type": "code",
   "execution_count": 24,
   "id": "0581c5f9",
   "metadata": {},
   "outputs": [],
   "source": [
    "import pandas as pd\n",
    "import matplotlib.pyplot as plt"
   ]
  },
  {
   "cell_type": "code",
   "execution_count": 75,
   "id": "c10edf3b",
   "metadata": {},
   "outputs": [],
   "source": [
    "# Obtiene las solamente las columnas orden_dosis y grupo_etario del dataset.\n",
    "columnas = ['orden_dosis', 'grupo_etario']\n",
    "try:\n",
    "    data = pd.read_csv('../datos_nomivac_covid19.csv', usecols = columnas, skipinitialspace = True)\n",
    "except Error:\n",
    "    print('Hubo un error al leer el dataset', Error)"
   ]
  },
  {
   "cell_type": "code",
   "execution_count": 68,
   "id": "c9829d2a",
   "metadata": {},
   "outputs": [],
   "source": [
    "# Obtenemos solamente la primera dosis de cada grupo etario.\n",
    "primeraEdad = data.loc[(data['orden_dosis'] == 1) & (data['grupo_etario'] == '18-29'), ('grupo_etario')]\n",
    "segundaEdad = data.loc[(data['orden_dosis'] == 1) & (data['grupo_etario'] == '30-39'), ('grupo_etario')]\n",
    "terceraEdad = data.loc[(data['orden_dosis'] == 1) & (data['grupo_etario'] == '40-49'), ('grupo_etario')]\n",
    "cuartaEdad = data.loc[(data['orden_dosis'] == 1) & (data['grupo_etario'] == '50-59'), ('grupo_etario')]\n",
    "quintaEdad = data.loc[(data['orden_dosis'] == 1) & (data['grupo_etario'] == '60-69'), ('grupo_etario')]"
   ]
  },
  {
   "cell_type": "code",
   "execution_count": 71,
   "id": "893f20b5",
   "metadata": {},
   "outputs": [],
   "source": [
    "# Contamos la cantidad de personas vacunadas de cada grupo etario.\n",
    "c_primeraEdad = primeraEdad.count()\n",
    "c_segundaEdad = segundaEdad.count()\n",
    "c_terceraEdad = terceraEdad.count()\n",
    "c_cuartaEdad = cuartaEdad.count()\n",
    "c_quintaEdad = quintaEdad.count()"
   ]
  },
  {
   "cell_type": "code",
   "execution_count": 73,
   "id": "e4959b6e",
   "metadata": {},
   "outputs": [
    {
     "data": {
      "text/plain": [
       "Text(0.5, 1.0, 'Personas Vacunadas Dosis 1')"
      ]
     },
     "execution_count": 73,
     "metadata": {},
     "output_type": "execute_result"
    },
    {
     "data": {
      "image/png": "[encoded data removed]",
      "text/plain": [
       "<Figure size 432x288 with 1 Axes>"
      ]
     },
     "metadata": {
      "needs_background": "light"
     },
     "output_type": "display_data"
    }
   ],
   "source": [
    "# Creamos la gráfica de barras\n",
    "x = ['18-29', '30-39', '40-49', '50-59', '60-69']\n",
    "y = [c_primeraEdad, c_segundaEdad, c_terceraEdad, c_cuartaEdad, c_quintaEdad]\n",
    "plt.bar(x, y, color='green')\n",
    "plt.ylabel('Cantidad')\n",
    "plt.xlabel('Grupo etario')\n",
    "plt.title('Personas Vacunadas Dosis 1')"
   ]
  },
  {
   "cell_type": "code",
   "execution_count": null,
   "id": "8936b555",
   "metadata": {},
   "outputs": [],
   "source": []
  }
 ],
 "metadata": {
  "kernelspec": {
   "display_name": "Python 3 (ipykernel)",
   "language": "python",
   "name": "python3"
  },
  "language_info": {
   "codemirror_mode": {
    "name": "ipython",
    "version": 3
   },
   "file_extension": ".py",
   "mimetype": "text/x-python",
   "name": "python",
   "nbconvert_exporter": "python",
   "pygments_lexer": "ipython3",
   "version": "3.9.1"
  }
 },
 "nbformat": 4,
 "nbformat_minor": 5
}
