{
 "cells": [
  {
   "cell_type": "code",
   "execution_count": 27,
   "id": "0df39060",
   "metadata": {},
   "outputs": [],
   "source": [
    "import pandas as pd\n",
    "import matplotlib.pyplot as plt"
   ]
  },
  {
   "cell_type": "code",
   "execution_count": 10,
   "id": "80f861b9",
   "metadata": {
    "scrolled": true
   },
   "outputs": [],
   "source": [
    "# Obtiene solamente las columnas orden_dosis y sexo del dataset.\n",
    "columnas = ['orden_dosis', 'sexo']\n",
    "try:\n",
    "    data = pd.read_csv('../datos_nomivac_covid19.csv', usecols = columnas)\n",
    "except Error:\n",
    "    print('Hubo un error al leer el dataset', Error)"
   ]
  },
  {
   "cell_type": "code",
   "execution_count": 11,
   "id": "6448f557",
   "metadata": {},
   "outputs": [],
   "source": [
    "# Separamos sexos y dejamos solamente la columna 'sexo'\n",
    "masculinos = data.loc[(data['sexo'] == 'M') & (data['orden_dosis'] == 1), ('sexo')]\n",
    "femeninos = data.loc[(data['sexo'] == 'F') & (data['orden_dosis'] == 1), ('sexo')]"
   ]
  },
  {
   "cell_type": "code",
   "execution_count": 17,
   "id": "1f234acb",
   "metadata": {},
   "outputs": [],
   "source": [
    "# Cuenta el total de vacunados de cada sexo.\n",
    "total_masculinos = masculinos.count()\n",
    "total_femeninos = femeninos.count()"
   ]
  },
  {
   "cell_type": "code",
   "execution_count": 28,
   "id": "5f39b2b5",
   "metadata": {},
   "outputs": [
    {
     "data": {
      "image/png": "[encoded data removed]",
      "text/plain": [
       "<Figure size 432x288 with 1 Axes>"
      ]
     },
     "metadata": {},
     "output_type": "display_data"
    }
   ],
   "source": [
    "# Configuramos la información para la comparativa.\n",
    "texto = ['Masculino', 'Femenino']\n",
    "cantidad = [total_masculinos, total_femeninos]\n",
    "colores = ['blue', 'red']"
   ]
  },
  {
   "cell_type": "code",
   "execution_count": null,
   "id": "199d38f2",
   "metadata": {},
   "outputs": [],
   "source": [
    "# Creamos el gráfico y lo mostramos en un gráfico circular.\n",
    "fig, ax2 = plt.subplots()\n",
    "ax2.pie(cantidad, labels=texto, autopct='%1.2f%%', startangle=180, colors=colores)\n",
    "ax2.axis('equal')\n",
    "plt.show()"
   ]
  }
 ],
 "metadata": {
  "kernelspec": {
   "display_name": "Python 3 (ipykernel)",
   "language": "python",
   "name": "python3"
  },
  "language_info": {
   "codemirror_mode": {
    "name": "ipython",
    "version": 3
   },
   "file_extension": ".py",
   "mimetype": "text/x-python",
   "name": "python",
   "nbconvert_exporter": "python",
   "pygments_lexer": "ipython3",
   "version": "3.9.1"
  }
 },
 "nbformat": 4,
 "nbformat_minor": 5
}
