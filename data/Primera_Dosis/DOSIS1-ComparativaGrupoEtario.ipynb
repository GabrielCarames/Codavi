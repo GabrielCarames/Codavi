{
 "cells": [
  {
   "cell_type": "code",
   "execution_count": 1,
   "source": [
    "import pandas as pd\r\n",
    "import matplotlib.pyplot as plt"
   ],
   "outputs": [],
   "metadata": {}
  },
  {
   "cell_type": "code",
   "execution_count": 2,
   "source": [
    "# Obtiene las solamente las columnas orden_dosis y grupo_etario del dataset.\r\n",
    "columnas = ['orden_dosis', 'grupo_etario']\r\n",
    "try:\r\n",
    "    data = pd.read_csv('../datos_nomivac_covid19.csv', usecols = columnas, skipinitialspace = True)\r\n",
    "except Exception as Error:\r\n",
    "    print('Hubo un error al leer el dataset', Error)"
   ],
   "outputs": [],
   "metadata": {}
  },
  {
   "cell_type": "code",
   "execution_count": 3,
   "source": [
    "# Obtenemos solamente la primera dosis de cada grupo etario y cada grupo etario\r\n",
    "primeraDosis = data.query('orden_dosis == 1')\r\n",
    "primeraEdad = primeraDosis.query('grupo_etario == \"18-29\"')\r\n",
    "segundaEdad = primeraDosis.query('grupo_etario == \"30-39\"')\r\n",
    "terceraEdad = primeraDosis.query('grupo_etario == \"40-49\"')\r\n",
    "cuartaEdad = primeraDosis.query('grupo_etario == \"50-59\"')\r\n",
    "quintaEdad = primeraDosis.query('grupo_etario == \"60-69\"')"
   ],
   "outputs": [],
   "metadata": {}
  },
  {
   "cell_type": "code",
   "execution_count": 4,
   "source": [
    "# Contamos la cantidad de personas vacunadas de cada grupo etario.\r\n",
    "c_primeraEdad = primeraEdad['orden_dosis'].count()\r\n",
    "c_segundaEdad = segundaEdad['orden_dosis'].count()\r\n",
    "c_terceraEdad = terceraEdad['orden_dosis'].count()\r\n",
    "c_cuartaEdad = cuartaEdad['orden_dosis'].count()\r\n",
    "c_quintaEdad = quintaEdad['orden_dosis'].count()"
   ],
   "outputs": [],
   "metadata": {}
  },
  {
   "cell_type": "code",
   "execution_count": 5,
   "source": [
    "# Creamos la gráfica de barras\r\n",
    "x = ['18-29', '30-39', '40-49', '50-59', '60-69']\r\n",
    "y = [c_primeraEdad, c_segundaEdad, c_terceraEdad, c_cuartaEdad, c_quintaEdad]\r\n",
    "plt.bar(x, y, color='green')\r\n",
    "plt.ylabel('Cantidad')\r\n",
    "plt.xlabel('Grupo etario')\r\n",
    "plt.title('Personas Vacunadas Dosis 1')"
   ],
   "outputs": [
    {
     "output_type": "execute_result",
     "data": {
      "text/plain": [
       "Text(0.5, 1.0, 'Personas Vacunadas Dosis 1')"
      ]
     },
     "metadata": {},
     "execution_count": 5
    },
    {
     "output_type": "display_data",
     "data": {
      "image/png": "[encoded data removed]",
      "text/plain": [
       "<Figure size 432x288 with 1 Axes>"
      ]
     },
     "metadata": {
      "needs_background": "light"
     }
    }
   ],
   "metadata": {}
  }
 ],
 "metadata": {
  "kernelspec": {
   "name": "python3",
   "display_name": "Python 3.9.1 64-bit"
  },
  "language_info": {
   "codemirror_mode": {
    "name": "ipython",
    "version": 3
   },
   "file_extension": ".py",
   "mimetype": "text/x-python",
   "name": "python",
   "nbconvert_exporter": "python",
   "pygments_lexer": "ipython3",
   "version": "3.9.1"
  },
  "interpreter": {
   "hash": "a86ff4ae3ee3a1b21f325b1ece796c8b39c5652a82900a8a39a5348e73740373"
  }
 },
 "nbformat": 4,
 "nbformat_minor": 5
}