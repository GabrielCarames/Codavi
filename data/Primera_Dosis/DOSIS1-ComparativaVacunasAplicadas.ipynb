{
 "cells": [
  {
   "cell_type": "code",
   "execution_count": 1,
   "source": [
    "import pandas as pd\r\n",
    "import matplotlib.pyplot as plt"
   ],
   "outputs": [],
   "metadata": {}
  },
  {
   "cell_type": "code",
   "execution_count": 2,
   "source": [
    "try:\r\n",
    "    url = 'https://sisa.msal.gov.ar/datos/descargas/covid-19/files/Covid19VacunasAgrupadas.csv.zip'\r\n",
    "    data = pd.read_csv(url)\r\n",
    "except Exception as Error:\r\n",
    "    print('Hubo un error al leer el dataset', Error)"
   ],
   "outputs": [],
   "metadata": {}
  },
  {
   "cell_type": "code",
   "execution_count": 3,
   "source": [
    "sputnik = data.query('vacuna_nombre.str.contains(\"Sputnik\")').primera_dosis_cantidad.sum()\r\n",
    "astrazeneca = data.query('vacuna_nombre.str.contains(\"AstraZeneca\")').primera_dosis_cantidad.sum()\r\n",
    "sinopharm = data.query('vacuna_nombre.str.contains(\"Sinopharm\")').primera_dosis_cantidad.sum()\r\n",
    "covishield = data.query('vacuna_nombre.str.contains(\"COVISHIELD\")').primera_dosis_cantidad.sum()\r\n",
    "moderna = data.query('vacuna_nombre.str.contains(\"Moderna\")').primera_dosis_cantidad.sum()"
   ],
   "outputs": [],
   "metadata": {}
  },
  {
   "cell_type": "code",
   "execution_count": 4,
   "source": [
    "data = {'Sputnik': sputnik, 'Astrazeneca': astrazeneca, 'Sinopharm': sinopharm, 'Moderna': moderna}\r\n",
    "vacunas = list(data.keys())\r\n",
    "cantidad = list(data.values())\r\n",
    "\r\n",
    "fig, axs = plt.subplots(1, 2, figsize=(10, 4))\r\n",
    "axs[0].bar(vacunas, cantidad)\r\n",
    "axs[1].scatter(vacunas, cantidad)\r\n",
    "fig.suptitle('Vacunas aplicadas Dosis 1')"
   ],
   "outputs": [
    {
     "output_type": "execute_result",
     "data": {
      "text/plain": [
       "Text(0.5, 0.98, 'Vacunas aplicadas Dosis 1')"
      ]
     },
     "metadata": {},
     "execution_count": 4
    },
    {
     "output_type": "display_data",
     "data": {
      "image/png": "[encoded data removed]",
      "text/plain": [
       "<Figure size 720x288 with 2 Axes>"
      ]
     },
     "metadata": {
      "needs_background": "light"
     }
    }
   ],
   "metadata": {}
  }
 ],
 "metadata": {
  "orig_nbformat": 4,
  "language_info": {
   "name": "python",
   "version": "3.9.1",
   "mimetype": "text/x-python",
   "codemirror_mode": {
    "name": "ipython",
    "version": 3
   },
   "pygments_lexer": "ipython3",
   "nbconvert_exporter": "python",
   "file_extension": ".py"
  },
  "kernelspec": {
   "name": "python3",
   "display_name": "Python 3.9.1 64-bit"
  },
  "interpreter": {
   "hash": "a86ff4ae3ee3a1b21f325b1ece796c8b39c5652a82900a8a39a5348e73740373"
  }
 },
 "nbformat": 4,
 "nbformat_minor": 2
}