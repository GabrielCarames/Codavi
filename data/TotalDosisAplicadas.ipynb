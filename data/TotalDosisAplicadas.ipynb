{
 "cells": [
  {
   "cell_type": "code",
   "execution_count": 1,
   "source": [
    "import locale\r\n",
    "import pandas as pd"
   ],
   "outputs": [],
   "metadata": {}
  },
  {
   "cell_type": "code",
   "execution_count": 2,
   "source": [
    "try:\r\n",
    "    url = 'https://sisa.msal.gov.ar/datos/descargas/covid-19/files/Covid19VacunasAgrupadas.csv.zip'\r\n",
    "    data = pd.read_csv(url)\r\n",
    "except Exception as Error:\r\n",
    "    print('Hubo un error al leer el dataset', Error)"
   ],
   "outputs": [],
   "metadata": {}
  },
  {
   "cell_type": "code",
   "execution_count": 3,
   "source": [
    "sputnik = data.query('vacuna_nombre.str.contains(\"Sputnik\")')\r\n",
    "sputnik_total = sputnik['primera_dosis_cantidad'].sum() + sputnik['segunda_dosis_cantidad'].sum()\r\n",
    "\r\n",
    "astrazeneca = data.query('vacuna_nombre.str.contains(\"AstraZeneca\")')\r\n",
    "astrazeneca_total = astrazeneca['primera_dosis_cantidad'].sum() + astrazeneca['segunda_dosis_cantidad'].sum()\r\n",
    "\r\n",
    "sinopharm = data.query('vacuna_nombre.str.contains(\"Sinopharm\")')\r\n",
    "sinopharm_total = sinopharm['primera_dosis_cantidad'].sum() + sinopharm['segunda_dosis_cantidad'].sum()\r\n",
    "\r\n",
    "covishield = data.query('vacuna_nombre.str.contains(\"COVISHIELD\")')\r\n",
    "covishield_total = covishield['primera_dosis_cantidad'].sum() + covishield['segunda_dosis_cantidad'].sum()\r\n",
    "\r\n",
    "moderna = data.query('vacuna_nombre.str.contains(\"Moderna\")')\r\n",
    "moderna_total = moderna['primera_dosis_cantidad'].sum() + moderna['segunda_dosis_cantidad'].sum()\r\n",
    "\r\n",
    "total = sputnik_total + astrazeneca_total + sinopharm_total + covishield_total + moderna_total\r\n",
    "print(f'Total de dosis suministradas: {total:,}')"
   ],
   "outputs": [
    {
     "output_type": "stream",
     "name": "stdout",
     "text": [
      "Total de dosis suministradas: 45,622,890\n"
     ]
    }
   ],
   "metadata": {}
  }
 ],
 "metadata": {
  "orig_nbformat": 4,
  "language_info": {
   "name": "python",
   "version": "3.9.1",
   "mimetype": "text/x-python",
   "codemirror_mode": {
    "name": "ipython",
    "version": 3
   },
   "pygments_lexer": "ipython3",
   "nbconvert_exporter": "python",
   "file_extension": ".py"
  },
  "kernelspec": {
   "name": "python3",
   "display_name": "Python 3.9.1 64-bit"
  },
  "interpreter": {
   "hash": "a86ff4ae3ee3a1b21f325b1ece796c8b39c5652a82900a8a39a5348e73740373"
  }
 },
 "nbformat": 4,
 "nbformat_minor": 2
}