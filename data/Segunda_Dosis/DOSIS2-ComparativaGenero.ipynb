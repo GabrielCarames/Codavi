{
 "cells": [
  {
   "cell_type": "code",
   "execution_count": 1,
   "source": [
    "import pandas as pd\r\n",
    "import matplotlib.pyplot as plt"
   ],
   "outputs": [],
   "metadata": {}
  },
  {
   "cell_type": "code",
   "execution_count": 2,
   "source": [
    "# Obtiene solamente las columnas orden_dosis y sexo del dataset.\r\n",
    "columnas = ['orden_dosis', 'sexo']\r\n",
    "try:\r\n",
    "    data = pd.read_csv('../datos_nomivac_covid19.csv', usecols = columnas)\r\n",
    "except Exception as Error:\r\n",
    "    print('Hubo un error al leer el dataset', Error)"
   ],
   "outputs": [],
   "metadata": {}
  },
  {
   "cell_type": "code",
   "execution_count": 3,
   "source": [
    "# Obtenemos solamente la segunda dosis y separamos los sexos.\r\n",
    "masculinos = data.query('orden_dosis == 2 and sexo == \"M\"')\r\n",
    "femeninos = data.query('orden_dosis == 2 and sexo == \"F\"')"
   ],
   "outputs": [],
   "metadata": {}
  },
  {
   "cell_type": "code",
   "execution_count": 4,
   "source": [
    "# Cuenta el total de vacunados de cada sexo.\r\n",
    "total_masculinos = masculinos['sexo'].count()\r\n",
    "total_femeninos = femeninos['sexo'].count()"
   ],
   "outputs": [],
   "metadata": {}
  },
  {
   "cell_type": "code",
   "execution_count": 5,
   "source": [
    "# Configuramos la información para la comparativa.\r\n",
    "texto = ['Masculino', 'Femenino']\r\n",
    "cantidad = [total_masculinos, total_femeninos]\r\n",
    "colores = ['blue', 'red']"
   ],
   "outputs": [],
   "metadata": {}
  },
  {
   "cell_type": "code",
   "execution_count": 6,
   "source": [
    "# Creamos el gráfico y lo mostramos en un gráfico circular.\r\n",
    "fig, ax2 = plt.subplots()\r\n",
    "ax2.pie(cantidad, labels=texto, autopct='%1.2f%%', startangle=180, colors=colores)\r\n",
    "ax2.axis('equal')\r\n",
    "plt.show()"
   ],
   "outputs": [
    {
     "output_type": "display_data",
     "data": {
      "image/png": "[encoded data removed]",
      "text/plain": [
       "<Figure size 432x288 with 1 Axes>"
      ]
     },
     "metadata": {}
    }
   ],
   "metadata": {}
  }
 ],
 "metadata": {
  "language_info": {
   "name": "python",
   "version": "3.9.1",
   "mimetype": "text/x-python",
   "codemirror_mode": {
    "name": "ipython",
    "version": 3
   },
   "pygments_lexer": "ipython3",
   "nbconvert_exporter": "python",
   "file_extension": ".py"
  },
  "kernelspec": {
   "name": "python3",
   "display_name": "Python 3.9.1 64-bit"
  },
  "interpreter": {
   "hash": "a86ff4ae3ee3a1b21f325b1ece796c8b39c5652a82900a8a39a5348e73740373"
  }
 },
 "nbformat": 4,
 "nbformat_minor": 5
}