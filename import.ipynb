{
 "cells": [
  {
   "cell_type": "code",
   "execution_count": 1,
   "id": "0df39060",
   "metadata": {},
   "outputs": [],
   "source": [
    "import pandas as pd"
   ]
  },
  {
   "cell_type": "code",
   "execution_count": null,
   "id": "80f861b9",
   "metadata": {
    "scrolled": true
   },
   "outputs": [],
   "source": [
    "data = pd.read_csv('datos_nomivac_covid19.csv')\n",
    "data"
   ]
  },
  {
   "cell_type": "code",
   "execution_count": 14,
   "id": "ea7d5890",
   "metadata": {},
   "outputs": [
    {
     "data": {
      "text/plain": [
       "0           Sinopharm\n",
       "2             Sputnik\n",
       "4             Sputnik\n",
       "9             Sputnik\n",
       "15          Sinopharm\n",
       "              ...    \n",
       "36998478    Sinopharm\n",
       "36998479    Sinopharm\n",
       "36998480    Sinopharm\n",
       "36998481    Sinopharm\n",
       "36998483      Sputnik\n",
       "Name: vacuna, Length: 26708012, dtype: object"
      ]
     },
     "execution_count": 14,
     "metadata": {},
     "output_type": "execute_result"
    }
   ],
   "source": [
    "dosis = data.loc[(data['orden_dosis'] == 1), 'vacuna']\n",
    "dosis"
   ]
  },
  {
   "cell_type": "code",
   "execution_count": null,
   "id": "115ada80",
   "metadata": {},
   "outputs": [],
   "source": []
  },
  {
   "cell_type": "code",
   "execution_count": null,
   "id": "a7ce4967",
   "metadata": {},
   "outputs": [],
   "source": []
  }
 ],
 "metadata": {
  "kernelspec": {
   "display_name": "Python 3 (ipykernel)",
   "language": "python",
   "name": "python3"
  },
  "language_info": {
   "codemirror_mode": {
    "name": "ipython",
    "version": 3
   },
   "file_extension": ".py",
   "mimetype": "text/x-python",
   "name": "python",
   "nbconvert_exporter": "python",
   "pygments_lexer": "ipython3",
   "version": "3.9.1"
  }
 },
 "nbformat": 4,
 "nbformat_minor": 5
}
