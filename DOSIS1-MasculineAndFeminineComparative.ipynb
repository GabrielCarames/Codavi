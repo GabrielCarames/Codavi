{
 "cells": [
  {
   "cell_type": "code",
   "execution_count": 1,
   "id": "0df39060",
   "metadata": {},
   "outputs": [],
   "source": [
    "import pandas as pd\n",
    "import matplotlib.pyplot as plt"
   ]
  },
  {
   "cell_type": "code",
   "execution_count": 2,
   "id": "80f861b9",
   "metadata": {
    "scrolled": true
   },
   "outputs": [],
   "source": [
    "data = pd.read_csv('datos_nomivac_covid19.csv')\n",
    "data_top = data.head(5)"
   ]
  },
  {
   "cell_type": "code",
   "execution_count": 4,
   "id": "6448f557",
   "metadata": {},
   "outputs": [],
   "source": [
    "# Obtiene la vacuan y grupo etario de los que se vacunaron con la primera dosis.\n",
    "masculinos = data.loc[(data['sexo'] == 'M') & (data['orden_dosis'] == 1), ('vacuna', 'grupo_etario')]\n",
    "femeninos = data.loc[(data['sexo'] == 'F') & (data['orden_dosis'] == 1), ('vacuna', 'grupo_etario')]"
   ]
  },
  {
   "cell_type": "code",
   "execution_count": 5,
   "id": "1f234acb",
   "metadata": {},
   "outputs": [],
   "source": [
    "# Cuenta el total de vacunados.\n",
    "total_masculinos = masculinos['vacuna'].count()\n",
    "total_femeninos = femeninos['vacuna'].count()"
   ]
  },
  {
   "cell_type": "code",
   "execution_count": 8,
   "id": "5f39b2b5",
   "metadata": {},
   "outputs": [
    {
     "data": {
      "image/png": "[encoded data removed]",
      "text/plain": [
       "<Figure size 432x288 with 1 Axes>"
      ]
     },
     "metadata": {},
     "output_type": "display_data"
    }
   ],
   "source": [
    "# Muestra comparativa en gráfico circular.\n",
    "texto = ['Masculino', 'Femenino']\n",
    "cantidad = [total_masculinos, total_femeninos]\n",
    "\n",
    "fig, ax2 = plt.subplots()\n",
    "ax2.pie(cantidad, labels=texto, autopct='%1.3f%%', startangle=90)\n",
    "ax2.axis('equal')\n",
    "plt.show()"
   ]
  },
  {
   "cell_type": "code",
   "execution_count": null,
   "id": "199d38f2",
   "metadata": {},
   "outputs": [],
   "source": []
  }
 ],
 "metadata": {
  "kernelspec": {
   "display_name": "Python 3 (ipykernel)",
   "language": "python",
   "name": "python3"
  },
  "language_info": {
   "codemirror_mode": {
    "name": "ipython",
    "version": 3
   },
   "file_extension": ".py",
   "mimetype": "text/x-python",
   "name": "python",
   "nbconvert_exporter": "python",
   "pygments_lexer": "ipython3",
   "version": "3.9.1"
  }
 },
 "nbformat": 4,
 "nbformat_minor": 5
}
